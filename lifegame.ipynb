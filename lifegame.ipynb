{
  "nbformat": 4,
  "nbformat_minor": 0,
  "metadata": {
    "colab": {
      "name": "lifegame.ipynb",
      "provenance": [],
      "collapsed_sections": [],
      "authorship_tag": "ABX9TyO0AuqxxRIVfsdrZ9qPCooU",
      "include_colab_link": true
    },
    "kernelspec": {
      "name": "python3",
      "display_name": "Python 3"
    },
    "accelerator": "GPU"
  },
  "cells": [
    {
      "cell_type": "markdown",
      "metadata": {
        "id": "view-in-github",
        "colab_type": "text"
      },
      "source": [
        "<a href=\"https://colab.research.google.com/github/yukinaga/brain_ai_book/blob/master/lifegame.ipynb\" target=\"_parent\"><img src=\"https://colab.research.google.com/assets/colab-badge.svg\" alt=\"Open In Colab\"/></a>"
      ]
    },
    {
      "cell_type": "markdown",
      "metadata": {
        "id": "y2zWc3SUtb_Q",
        "colab_type": "text"
      },
      "source": [
        "# ライフゲーム\n",
        "ライフゲームは、イギリスの数学者Conwayが考案したセル・オートマトンの一種です。  \n",
        "ライフゲームのセルには、死んでいるセル（白）と生きているセル（黒）の2種類があります。これらは、以下のルールにより次の時刻における生死が決まります。  \n",
        "\n",
        "* 死んでいるセル（白）の周囲に3つの生きているセル（黒）があれば次の時刻では生きているセルになる\n",
        "* 生きているセルの周囲に2つか3つの生きているセルがあれば次の時刻でも生きているセルのまま\n",
        "* これ以外の場合は、死んだセルになる\n",
        "\n",
        "以下のセルの左上のボタンをクリックし、ライフゲームを実行しましょう。"
      ]
    },
    {
      "cell_type": "code",
      "metadata": {
        "id": "aeQvNeBBtTiQ",
        "colab_type": "code",
        "cellView": "form",
        "colab": {}
      },
      "source": [
        "# import numpy as np  # CPU\n",
        "import cupy as np  # GPU\n",
        "import matplotlib.pyplot as plt\n",
        "from matplotlib import animation, rc\n",
        "\n",
        "# @markdown 領域の高さと幅を入力してください。\n",
        "height =  50# @param {type:\"number\"}\n",
        "width =  50# @param {type:\"number\"}\n",
        "\n",
        "# @markdown タイムステップを入力してください。\n",
        "steps = 200# @param {type:\"number\"}\n",
        "\n",
        "# @markdown GIFアニメを保存しますか？\n",
        "save_gif = False #@param {type:\"boolean\"}\n",
        "\n",
        "# @markdown MP4形式の動画を保存しますか？\n",
        "save_mp4 = False #@param {type:\"boolean\"}\n",
        "\n",
        "# 結果表示のための設定\n",
        "figure = plt.figure()\n",
        "plt.tick_params(labelbottom=False, labelleft=False, labelright=False, labeltop=False)\n",
        "plt.tick_params(bottom=False, left=False, right=False, top=False)\n",
        "\n",
        "# 初期値をランダムに設定\n",
        "states = np.random.randint(0, 2, (height, width))\n",
        "\n",
        "# 画像を格納するリスト\n",
        "images = []\n",
        "image = plt.imshow(states.tolist(), cmap=\"gray_r\")\n",
        "images.append([image])\n",
        "\n",
        "# セルの更新\n",
        "for t in range(steps):\n",
        "    total = (\n",
        "        np.roll(states, (-1, 0), axis=(0, 1)) + np.roll(states, (1, 0), axis=(0, 1))\n",
        "        + np.roll(states, (0, -1), axis=(0, 1)) + np.roll(states, (0, 1), axis=(0, 1))\n",
        "        + np.roll(states, (-1, -1), axis=(0, 1)) + np.roll(states, (-1, 1), axis=(0, 1))\n",
        "        + np.roll(states, (1, -1), axis=(0, 1)) + np.roll(states, (1, 1), axis=(0, 1))\n",
        "    )\n",
        "    states = np.where(((states==0) & (total==3)) | ((states==1) & ((total==2) | (total==3))), 1, 0)\n",
        "\n",
        "    image = plt.imshow(states.tolist(), cmap=\"gray_r\")\n",
        "    images.append([image])\n",
        "\n",
        "# アニメーションの表示\n",
        "anim = animation.ArtistAnimation(figure, images, interval=100, blit=True)\n",
        "rc(\"animation\", html=\"jshtml\")\n",
        "if save_gif:\n",
        "    anim.save(\"lifegame.gif\", writer=\"pillow\", fps=10)\n",
        "if save_mp4:\n",
        "    anim.save(\"lifegame.mp4\", writer=\"ffmpeg\")\n",
        "plt.close()  # 通常のグラフを非表示に\n",
        "anim"
      ],
      "execution_count": null,
      "outputs": []
    },
    {
      "cell_type": "markdown",
      "metadata": {
        "id": "OP0H0Vr_nKbM",
        "colab_type": "text"
      },
      "source": [
        "結果がうまく表示されない場合は、「ランタイム」→「ランタイムを出荷時設定にリセット」を選択し、ランタイムをリセットしましょう。  \n",
        "なお、計算にはGPUを利用していますが、連続で使用するとランタイムが途中で切断されることがあります。タイムステップ数を少なくするか、しばらく時間を置いてから再びお試しください。"
      ]
    }
  ]
}